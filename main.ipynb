{
 "cells": [
  {
   "cell_type": "markdown",
   "metadata": {},
   "source": [
    "# Imports"
   ]
  },
  {
   "cell_type": "code",
   "execution_count": 50,
   "metadata": {},
   "outputs": [],
   "source": [
    "import pandas as pd\n",
    "import glob\n",
    "import os\n",
    "import json\n",
    "import ast\n",
    "import numpy as np\n",
    "import torch\n",
    "from transformers import BertTokenizerFast, BertForSequenceClassification, Trainer, TrainingArguments\n",
    "from torch.utils.data import Dataset\n",
    "from sklearn.metrics import f1_score\n",
    "from sklearn.metrics import confusion_matrix, classification_report\n",
    "import seaborn as sns\n",
    "import matplotlib.pyplot as plt\n",
    "from sklearn.dummy import DummyClassifier\n",
    "from sklearn.linear_model import LogisticRegression\n",
    "from sklearn.feature_extraction.text import TfidfVectorizer\n",
    "from sklearn.pipeline import Pipeline\n"
   ]
  },
  {
   "cell_type": "markdown",
   "metadata": {},
   "source": [
    "# Reading in Data"
   ]
  },
  {
   "cell_type": "code",
   "execution_count": 51,
   "metadata": {},
   "outputs": [],
   "source": [
    "path_to_annotations = \"/Users/abhinavtadikonda/Downloads/OPP-115/consolidation/threshold-0.75-overlap-similarity\"\n",
    "all_csv_files = glob.glob(os.path.join(path_to_annotations, \"*.csv\"))"
   ]
  },
  {
   "cell_type": "code",
   "execution_count": 52,
   "metadata": {},
   "outputs": [],
   "source": [
    "df_list = []\n",
    "column_names = ['Column1', 'Column2', 'Column3', 'Column4', 'Column5', 'Column6', 'Column7', 'Column8', 'Column9']"
   ]
  },
  {
   "cell_type": "code",
   "execution_count": 53,
   "metadata": {},
   "outputs": [],
   "source": [
    "for csv_file in all_csv_files:\n",
    "    temp_df = pd.read_csv(csv_file, header=None, names=column_names)\n",
    "    temp_df[\"source_file\"] = os.path.basename(csv_file)\n",
    "    df_list.append(temp_df)\n",
    "all_data = pd.concat(df_list, ignore_index=True)"
   ]
  },
  {
   "cell_type": "code",
   "execution_count": 54,
   "metadata": {},
   "outputs": [
    {
     "data": {
      "text/html": [
       "<div>\n",
       "<style scoped>\n",
       "    .dataframe tbody tr th:only-of-type {\n",
       "        vertical-align: middle;\n",
       "    }\n",
       "\n",
       "    .dataframe tbody tr th {\n",
       "        vertical-align: top;\n",
       "    }\n",
       "\n",
       "    .dataframe thead th {\n",
       "        text-align: right;\n",
       "    }\n",
       "</style>\n",
       "<table border=\"1\" class=\"dataframe\">\n",
       "  <thead>\n",
       "    <tr style=\"text-align: right;\">\n",
       "      <th></th>\n",
       "      <th>Column1</th>\n",
       "      <th>Column2</th>\n",
       "      <th>Column3</th>\n",
       "      <th>Column4</th>\n",
       "      <th>Column5</th>\n",
       "      <th>Column6</th>\n",
       "      <th>Column7</th>\n",
       "      <th>Column8</th>\n",
       "      <th>Column9</th>\n",
       "      <th>source_file</th>\n",
       "    </tr>\n",
       "  </thead>\n",
       "  <tbody>\n",
       "    <tr>\n",
       "      <th>0</th>\n",
       "      <td>C1543</td>\n",
       "      <td>test_category_labeling_highlight_fordham_aaaa</td>\n",
       "      <td>121</td>\n",
       "      <td>3828</td>\n",
       "      <td>0</td>\n",
       "      <td>Other</td>\n",
       "      <td>{\"Other Type\": {\"endIndexInSegment\": 575, \"sta...</td>\n",
       "      <td>5/7/15</td>\n",
       "      <td>http://www.kraftrecipes.com/about/privacynotic...</td>\n",
       "      <td>746_kraftrecipes.com.csv</td>\n",
       "    </tr>\n",
       "    <tr>\n",
       "      <th>1</th>\n",
       "      <td>12378</td>\n",
       "      <td>test_category_labeling_highlight_fordham_bbbb</td>\n",
       "      <td>116</td>\n",
       "      <td>3828</td>\n",
       "      <td>0</td>\n",
       "      <td>Policy Change</td>\n",
       "      <td>{\"Change Type\": {\"endIndexInSegment\": 36, \"sta...</td>\n",
       "      <td>5/7/15</td>\n",
       "      <td>http://www.kraftrecipes.com/about/privacynotic...</td>\n",
       "      <td>746_kraftrecipes.com.csv</td>\n",
       "    </tr>\n",
       "    <tr>\n",
       "      <th>2</th>\n",
       "      <td>13161</td>\n",
       "      <td>test_category_labeling_highlight_fordham_aaaa</td>\n",
       "      <td>121</td>\n",
       "      <td>3828</td>\n",
       "      <td>1</td>\n",
       "      <td>First Party Collection/Use</td>\n",
       "      <td>{\"Collection Mode\": {\"endIndexInSegment\": -1, ...</td>\n",
       "      <td>5/7/15</td>\n",
       "      <td>http://www.kraftrecipes.com/about/privacynotic...</td>\n",
       "      <td>746_kraftrecipes.com.csv</td>\n",
       "    </tr>\n",
       "    <tr>\n",
       "      <th>3</th>\n",
       "      <td>13162</td>\n",
       "      <td>test_category_labeling_highlight_fordham_aaaa</td>\n",
       "      <td>121</td>\n",
       "      <td>3828</td>\n",
       "      <td>1</td>\n",
       "      <td>First Party Collection/Use</td>\n",
       "      <td>{\"Collection Mode\": {\"endIndexInSegment\": -1, ...</td>\n",
       "      <td>5/7/15</td>\n",
       "      <td>http://www.kraftrecipes.com/about/privacynotic...</td>\n",
       "      <td>746_kraftrecipes.com.csv</td>\n",
       "    </tr>\n",
       "    <tr>\n",
       "      <th>4</th>\n",
       "      <td>13163</td>\n",
       "      <td>test_category_labeling_highlight_fordham_aaaa</td>\n",
       "      <td>121</td>\n",
       "      <td>3828</td>\n",
       "      <td>1</td>\n",
       "      <td>First Party Collection/Use</td>\n",
       "      <td>{\"Collection Mode\": {\"endIndexInSegment\": -1, ...</td>\n",
       "      <td>5/7/15</td>\n",
       "      <td>http://www.kraftrecipes.com/about/privacynotic...</td>\n",
       "      <td>746_kraftrecipes.com.csv</td>\n",
       "    </tr>\n",
       "    <tr>\n",
       "      <th>...</th>\n",
       "      <td>...</td>\n",
       "      <td>...</td>\n",
       "      <td>...</td>\n",
       "      <td>...</td>\n",
       "      <td>...</td>\n",
       "      <td>...</td>\n",
       "      <td>...</td>\n",
       "      <td>...</td>\n",
       "      <td>...</td>\n",
       "      <td>...</td>\n",
       "    </tr>\n",
       "    <tr>\n",
       "      <th>19715</th>\n",
       "      <td>2392</td>\n",
       "      <td>test_category_labeling_highlight</td>\n",
       "      <td>84</td>\n",
       "      <td>3631</td>\n",
       "      <td>27</td>\n",
       "      <td>Other</td>\n",
       "      <td>{\"Other Type\": {\"endIndexInSegment\": 740, \"sta...</td>\n",
       "      <td>4/28/14</td>\n",
       "      <td>http://taylorswift.com/taylor-privacy-policy/</td>\n",
       "      <td>1545_taylorswift.com.csv</td>\n",
       "    </tr>\n",
       "    <tr>\n",
       "      <th>19716</th>\n",
       "      <td>2953</td>\n",
       "      <td>test_category_labeling_highlight</td>\n",
       "      <td>82</td>\n",
       "      <td>3631</td>\n",
       "      <td>27</td>\n",
       "      <td>International and Specific Audiences</td>\n",
       "      <td>{\"Audience Type\": {\"endIndexInSegment\": 740, \"...</td>\n",
       "      <td>4/28/14</td>\n",
       "      <td>http://taylorswift.com/taylor-privacy-policy/</td>\n",
       "      <td>1545_taylorswift.com.csv</td>\n",
       "    </tr>\n",
       "    <tr>\n",
       "      <th>19717</th>\n",
       "      <td>3119</td>\n",
       "      <td>test_category_labeling_highlight</td>\n",
       "      <td>88</td>\n",
       "      <td>3631</td>\n",
       "      <td>27</td>\n",
       "      <td>International and Specific Audiences</td>\n",
       "      <td>{\"Audience Type\": {\"endIndexInSegment\": 740, \"...</td>\n",
       "      <td>4/28/14</td>\n",
       "      <td>http://taylorswift.com/taylor-privacy-policy/</td>\n",
       "      <td>1545_taylorswift.com.csv</td>\n",
       "    </tr>\n",
       "    <tr>\n",
       "      <th>19718</th>\n",
       "      <td>C117</td>\n",
       "      <td>test_category_labeling_highlight</td>\n",
       "      <td>82</td>\n",
       "      <td>3631</td>\n",
       "      <td>28</td>\n",
       "      <td>Other</td>\n",
       "      <td>{\"Other Type\": {\"endIndexInSegment\": 303, \"sta...</td>\n",
       "      <td>4/28/14</td>\n",
       "      <td>http://taylorswift.com/taylor-privacy-policy/</td>\n",
       "      <td>1545_taylorswift.com.csv</td>\n",
       "    </tr>\n",
       "    <tr>\n",
       "      <th>19719</th>\n",
       "      <td>3120</td>\n",
       "      <td>test_category_labeling_highlight</td>\n",
       "      <td>88</td>\n",
       "      <td>3631</td>\n",
       "      <td>28</td>\n",
       "      <td>Other</td>\n",
       "      <td>{\"Other Type\": {\"endIndexInSegment\": 303, \"sta...</td>\n",
       "      <td>4/28/14</td>\n",
       "      <td>http://taylorswift.com/taylor-privacy-policy/</td>\n",
       "      <td>1545_taylorswift.com.csv</td>\n",
       "    </tr>\n",
       "  </tbody>\n",
       "</table>\n",
       "<p>19720 rows × 10 columns</p>\n",
       "</div>"
      ],
      "text/plain": [
       "      Column1                                        Column2  Column3  \\\n",
       "0       C1543  test_category_labeling_highlight_fordham_aaaa      121   \n",
       "1       12378  test_category_labeling_highlight_fordham_bbbb      116   \n",
       "2       13161  test_category_labeling_highlight_fordham_aaaa      121   \n",
       "3       13162  test_category_labeling_highlight_fordham_aaaa      121   \n",
       "4       13163  test_category_labeling_highlight_fordham_aaaa      121   \n",
       "...       ...                                            ...      ...   \n",
       "19715    2392               test_category_labeling_highlight       84   \n",
       "19716    2953               test_category_labeling_highlight       82   \n",
       "19717    3119               test_category_labeling_highlight       88   \n",
       "19718    C117               test_category_labeling_highlight       82   \n",
       "19719    3120               test_category_labeling_highlight       88   \n",
       "\n",
       "       Column4  Column5                               Column6  \\\n",
       "0         3828        0                                 Other   \n",
       "1         3828        0                         Policy Change   \n",
       "2         3828        1            First Party Collection/Use   \n",
       "3         3828        1            First Party Collection/Use   \n",
       "4         3828        1            First Party Collection/Use   \n",
       "...        ...      ...                                   ...   \n",
       "19715     3631       27                                 Other   \n",
       "19716     3631       27  International and Specific Audiences   \n",
       "19717     3631       27  International and Specific Audiences   \n",
       "19718     3631       28                                 Other   \n",
       "19719     3631       28                                 Other   \n",
       "\n",
       "                                                 Column7  Column8  \\\n",
       "0      {\"Other Type\": {\"endIndexInSegment\": 575, \"sta...   5/7/15   \n",
       "1      {\"Change Type\": {\"endIndexInSegment\": 36, \"sta...   5/7/15   \n",
       "2      {\"Collection Mode\": {\"endIndexInSegment\": -1, ...   5/7/15   \n",
       "3      {\"Collection Mode\": {\"endIndexInSegment\": -1, ...   5/7/15   \n",
       "4      {\"Collection Mode\": {\"endIndexInSegment\": -1, ...   5/7/15   \n",
       "...                                                  ...      ...   \n",
       "19715  {\"Other Type\": {\"endIndexInSegment\": 740, \"sta...  4/28/14   \n",
       "19716  {\"Audience Type\": {\"endIndexInSegment\": 740, \"...  4/28/14   \n",
       "19717  {\"Audience Type\": {\"endIndexInSegment\": 740, \"...  4/28/14   \n",
       "19718  {\"Other Type\": {\"endIndexInSegment\": 303, \"sta...  4/28/14   \n",
       "19719  {\"Other Type\": {\"endIndexInSegment\": 303, \"sta...  4/28/14   \n",
       "\n",
       "                                                 Column9  \\\n",
       "0      http://www.kraftrecipes.com/about/privacynotic...   \n",
       "1      http://www.kraftrecipes.com/about/privacynotic...   \n",
       "2      http://www.kraftrecipes.com/about/privacynotic...   \n",
       "3      http://www.kraftrecipes.com/about/privacynotic...   \n",
       "4      http://www.kraftrecipes.com/about/privacynotic...   \n",
       "...                                                  ...   \n",
       "19715      http://taylorswift.com/taylor-privacy-policy/   \n",
       "19716      http://taylorswift.com/taylor-privacy-policy/   \n",
       "19717      http://taylorswift.com/taylor-privacy-policy/   \n",
       "19718      http://taylorswift.com/taylor-privacy-policy/   \n",
       "19719      http://taylorswift.com/taylor-privacy-policy/   \n",
       "\n",
       "                    source_file  \n",
       "0      746_kraftrecipes.com.csv  \n",
       "1      746_kraftrecipes.com.csv  \n",
       "2      746_kraftrecipes.com.csv  \n",
       "3      746_kraftrecipes.com.csv  \n",
       "4      746_kraftrecipes.com.csv  \n",
       "...                         ...  \n",
       "19715  1545_taylorswift.com.csv  \n",
       "19716  1545_taylorswift.com.csv  \n",
       "19717  1545_taylorswift.com.csv  \n",
       "19718  1545_taylorswift.com.csv  \n",
       "19719  1545_taylorswift.com.csv  \n",
       "\n",
       "[19720 rows x 10 columns]"
      ]
     },
     "execution_count": 54,
     "metadata": {},
     "output_type": "execute_result"
    }
   ],
   "source": [
    "all_data"
   ]
  },
  {
   "cell_type": "code",
   "execution_count": 55,
   "metadata": {},
   "outputs": [
    {
     "data": {
      "text/html": [
       "<div>\n",
       "<style scoped>\n",
       "    .dataframe tbody tr th:only-of-type {\n",
       "        vertical-align: middle;\n",
       "    }\n",
       "\n",
       "    .dataframe tbody tr th {\n",
       "        vertical-align: top;\n",
       "    }\n",
       "\n",
       "    .dataframe thead th {\n",
       "        text-align: right;\n",
       "    }\n",
       "</style>\n",
       "<table border=\"1\" class=\"dataframe\">\n",
       "  <thead>\n",
       "    <tr style=\"text-align: right;\">\n",
       "      <th></th>\n",
       "      <th>categories</th>\n",
       "      <th>annotations</th>\n",
       "      <th>website</th>\n",
       "    </tr>\n",
       "  </thead>\n",
       "  <tbody>\n",
       "    <tr>\n",
       "      <th>0</th>\n",
       "      <td>Other</td>\n",
       "      <td>{\"Other Type\": {\"endIndexInSegment\": 575, \"sta...</td>\n",
       "      <td>http://www.kraftrecipes.com/about/privacynotic...</td>\n",
       "    </tr>\n",
       "    <tr>\n",
       "      <th>1</th>\n",
       "      <td>Policy Change</td>\n",
       "      <td>{\"Change Type\": {\"endIndexInSegment\": 36, \"sta...</td>\n",
       "      <td>http://www.kraftrecipes.com/about/privacynotic...</td>\n",
       "    </tr>\n",
       "    <tr>\n",
       "      <th>2</th>\n",
       "      <td>First Party Collection/Use</td>\n",
       "      <td>{\"Collection Mode\": {\"endIndexInSegment\": -1, ...</td>\n",
       "      <td>http://www.kraftrecipes.com/about/privacynotic...</td>\n",
       "    </tr>\n",
       "    <tr>\n",
       "      <th>3</th>\n",
       "      <td>First Party Collection/Use</td>\n",
       "      <td>{\"Collection Mode\": {\"endIndexInSegment\": -1, ...</td>\n",
       "      <td>http://www.kraftrecipes.com/about/privacynotic...</td>\n",
       "    </tr>\n",
       "    <tr>\n",
       "      <th>4</th>\n",
       "      <td>First Party Collection/Use</td>\n",
       "      <td>{\"Collection Mode\": {\"endIndexInSegment\": -1, ...</td>\n",
       "      <td>http://www.kraftrecipes.com/about/privacynotic...</td>\n",
       "    </tr>\n",
       "  </tbody>\n",
       "</table>\n",
       "</div>"
      ],
      "text/plain": [
       "                   categories  \\\n",
       "0                       Other   \n",
       "1               Policy Change   \n",
       "2  First Party Collection/Use   \n",
       "3  First Party Collection/Use   \n",
       "4  First Party Collection/Use   \n",
       "\n",
       "                                         annotations  \\\n",
       "0  {\"Other Type\": {\"endIndexInSegment\": 575, \"sta...   \n",
       "1  {\"Change Type\": {\"endIndexInSegment\": 36, \"sta...   \n",
       "2  {\"Collection Mode\": {\"endIndexInSegment\": -1, ...   \n",
       "3  {\"Collection Mode\": {\"endIndexInSegment\": -1, ...   \n",
       "4  {\"Collection Mode\": {\"endIndexInSegment\": -1, ...   \n",
       "\n",
       "                                             website  \n",
       "0  http://www.kraftrecipes.com/about/privacynotic...  \n",
       "1  http://www.kraftrecipes.com/about/privacynotic...  \n",
       "2  http://www.kraftrecipes.com/about/privacynotic...  \n",
       "3  http://www.kraftrecipes.com/about/privacynotic...  \n",
       "4  http://www.kraftrecipes.com/about/privacynotic...  "
      ]
     },
     "execution_count": 55,
     "metadata": {},
     "output_type": "execute_result"
    }
   ],
   "source": [
    "all_data_filtered = all_data[['Column6', 'Column7', 'Column9']]\n",
    "all_data_filtered.columns = ['categories', 'annotations', 'website']\n",
    "all_data_filtered.head()"
   ]
  },
  {
   "cell_type": "markdown",
   "metadata": {},
   "source": [
    "# Data Cleaning"
   ]
  },
  {
   "cell_type": "code",
   "execution_count": 56,
   "metadata": {},
   "outputs": [],
   "source": [
    "def convert_annotation(annotation_str):\n",
    "    try:\n",
    "        return json.loads(annotation_str)\n",
    "    except json.JSONDecodeError:\n",
    "        return ast.literal_eval(annotation_str)"
   ]
  },
  {
   "cell_type": "code",
   "execution_count": 57,
   "metadata": {},
   "outputs": [
    {
     "name": "stderr",
     "output_type": "stream",
     "text": [
      "/var/folders/5y/ggv9kct15fg4_jf8q92pkfcm0000gn/T/ipykernel_33432/2414426689.py:1: SettingWithCopyWarning: \n",
      "A value is trying to be set on a copy of a slice from a DataFrame.\n",
      "Try using .loc[row_indexer,col_indexer] = value instead\n",
      "\n",
      "See the caveats in the documentation: https://pandas.pydata.org/pandas-docs/stable/user_guide/indexing.html#returning-a-view-versus-a-copy\n",
      "  all_data_filtered.annotations = all_data_filtered.annotations.apply(convert_annotation)\n"
     ]
    }
   ],
   "source": [
    "all_data_filtered.annotations = all_data_filtered.annotations.apply(convert_annotation)"
   ]
  },
  {
   "cell_type": "code",
   "execution_count": 58,
   "metadata": {},
   "outputs": [
    {
     "data": {
      "text/plain": [
       "{'Other Type': {'endIndexInSegment': 575,\n",
       "  'startIndexInSegment': 9,\n",
       "  'selectedText': 'Effective Date: May 7, 2015 Kraft Site Privacy Notice This website is owned and operated by Kraft Foods Group, Inc. At Kraft, we recognize that visitors to our site may be concerned about the information they provide to us and how we handle that information. This Privacy Notice describes the types of information we collect from and about you when you visit this website (and the mobile optimized version of this website), how we may use and disclose such information, and your ability to control certain uses of it.',\n",
       "  'value': 'Introductory/Generic'}}"
      ]
     },
     "execution_count": 58,
     "metadata": {},
     "output_type": "execute_result"
    }
   ],
   "source": [
    "all_data_filtered.annotations.iloc[0]"
   ]
  },
  {
   "cell_type": "code",
   "execution_count": 59,
   "metadata": {},
   "outputs": [],
   "source": [
    "def extract_selected_text(annotation_dict):\n",
    "    selected_texts = []\n",
    "    for key, details in annotation_dict.items():\n",
    "        if isinstance(details, dict) and \"selectedText\" in details:\n",
    "            if details['selectedText'] not in selected_texts:\n",
    "                selected_texts.append(details[\"selectedText\"])\n",
    "    return selected_texts"
   ]
  },
  {
   "cell_type": "code",
   "execution_count": 60,
   "metadata": {},
   "outputs": [
    {
     "name": "stderr",
     "output_type": "stream",
     "text": [
      "/var/folders/5y/ggv9kct15fg4_jf8q92pkfcm0000gn/T/ipykernel_33432/3583976791.py:1: SettingWithCopyWarning: \n",
      "A value is trying to be set on a copy of a slice from a DataFrame.\n",
      "Try using .loc[row_indexer,col_indexer] = value instead\n",
      "\n",
      "See the caveats in the documentation: https://pandas.pydata.org/pandas-docs/stable/user_guide/indexing.html#returning-a-view-versus-a-copy\n",
      "  all_data_filtered['selected_text'] = all_data_filtered.annotations.apply(extract_selected_text)\n"
     ]
    },
    {
     "data": {
      "text/html": [
       "<div>\n",
       "<style scoped>\n",
       "    .dataframe tbody tr th:only-of-type {\n",
       "        vertical-align: middle;\n",
       "    }\n",
       "\n",
       "    .dataframe tbody tr th {\n",
       "        vertical-align: top;\n",
       "    }\n",
       "\n",
       "    .dataframe thead th {\n",
       "        text-align: right;\n",
       "    }\n",
       "</style>\n",
       "<table border=\"1\" class=\"dataframe\">\n",
       "  <thead>\n",
       "    <tr style=\"text-align: right;\">\n",
       "      <th></th>\n",
       "      <th>categories</th>\n",
       "      <th>annotations</th>\n",
       "      <th>website</th>\n",
       "      <th>selected_text</th>\n",
       "    </tr>\n",
       "  </thead>\n",
       "  <tbody>\n",
       "    <tr>\n",
       "      <th>0</th>\n",
       "      <td>Other</td>\n",
       "      <td>{'Other Type': {'endIndexInSegment': 575, 'sta...</td>\n",
       "      <td>http://www.kraftrecipes.com/about/privacynotic...</td>\n",
       "      <td>[Effective Date: May 7, 2015 Kraft Site Privac...</td>\n",
       "    </tr>\n",
       "    <tr>\n",
       "      <th>1</th>\n",
       "      <td>Policy Change</td>\n",
       "      <td>{'Change Type': {'endIndexInSegment': 36, 'sta...</td>\n",
       "      <td>http://www.kraftrecipes.com/about/privacynotic...</td>\n",
       "      <td>[Effective Date: May 7, 2015]</td>\n",
       "    </tr>\n",
       "    <tr>\n",
       "      <th>2</th>\n",
       "      <td>First Party Collection/Use</td>\n",
       "      <td>{'Collection Mode': {'endIndexInSegment': -1, ...</td>\n",
       "      <td>http://www.kraftrecipes.com/about/privacynotic...</td>\n",
       "      <td>[collec, register on our website or participat...</td>\n",
       "    </tr>\n",
       "    <tr>\n",
       "      <th>3</th>\n",
       "      <td>First Party Collection/Use</td>\n",
       "      <td>{'Collection Mode': {'endIndexInSegment': -1, ...</td>\n",
       "      <td>http://www.kraftrecipes.com/about/privacynotic...</td>\n",
       "      <td>[collec, register on our website or participat...</td>\n",
       "    </tr>\n",
       "    <tr>\n",
       "      <th>4</th>\n",
       "      <td>First Party Collection/Use</td>\n",
       "      <td>{'Collection Mode': {'endIndexInSegment': -1, ...</td>\n",
       "      <td>http://www.kraftrecipes.com/about/privacynotic...</td>\n",
       "      <td>[collec, register on our website or participat...</td>\n",
       "    </tr>\n",
       "    <tr>\n",
       "      <th>...</th>\n",
       "      <td>...</td>\n",
       "      <td>...</td>\n",
       "      <td>...</td>\n",
       "      <td>...</td>\n",
       "    </tr>\n",
       "    <tr>\n",
       "      <th>19715</th>\n",
       "      <td>Other</td>\n",
       "      <td>{'Other Type': {'endIndexInSegment': 740, 'sta...</td>\n",
       "      <td>http://taylorswift.com/taylor-privacy-policy/</td>\n",
       "      <td>[We comply with the United States privacy laws...</td>\n",
       "    </tr>\n",
       "    <tr>\n",
       "      <th>19716</th>\n",
       "      <td>International and Specific Audiences</td>\n",
       "      <td>{'Audience Type': {'endIndexInSegment': 740, '...</td>\n",
       "      <td>http://taylorswift.com/taylor-privacy-policy/</td>\n",
       "      <td>[We comply with the United States privacy laws...</td>\n",
       "    </tr>\n",
       "    <tr>\n",
       "      <th>19717</th>\n",
       "      <td>International and Specific Audiences</td>\n",
       "      <td>{'Audience Type': {'endIndexInSegment': 740, '...</td>\n",
       "      <td>http://taylorswift.com/taylor-privacy-policy/</td>\n",
       "      <td>[By using the Sites, visitors to the Sites fro...</td>\n",
       "    </tr>\n",
       "    <tr>\n",
       "      <th>19718</th>\n",
       "      <td>Other</td>\n",
       "      <td>{'Other Type': {'endIndexInSegment': 303, 'sta...</td>\n",
       "      <td>http://taylorswift.com/taylor-privacy-policy/</td>\n",
       "      <td>[If you have any questions about either this P...</td>\n",
       "    </tr>\n",
       "    <tr>\n",
       "      <th>19719</th>\n",
       "      <td>Other</td>\n",
       "      <td>{'Other Type': {'endIndexInSegment': 303, 'sta...</td>\n",
       "      <td>http://taylorswift.com/taylor-privacy-policy/</td>\n",
       "      <td>[Taylor Nation, LLC 718 Thompson Lane Suite 10...</td>\n",
       "    </tr>\n",
       "  </tbody>\n",
       "</table>\n",
       "<p>19720 rows × 4 columns</p>\n",
       "</div>"
      ],
      "text/plain": [
       "                                 categories  \\\n",
       "0                                     Other   \n",
       "1                             Policy Change   \n",
       "2                First Party Collection/Use   \n",
       "3                First Party Collection/Use   \n",
       "4                First Party Collection/Use   \n",
       "...                                     ...   \n",
       "19715                                 Other   \n",
       "19716  International and Specific Audiences   \n",
       "19717  International and Specific Audiences   \n",
       "19718                                 Other   \n",
       "19719                                 Other   \n",
       "\n",
       "                                             annotations  \\\n",
       "0      {'Other Type': {'endIndexInSegment': 575, 'sta...   \n",
       "1      {'Change Type': {'endIndexInSegment': 36, 'sta...   \n",
       "2      {'Collection Mode': {'endIndexInSegment': -1, ...   \n",
       "3      {'Collection Mode': {'endIndexInSegment': -1, ...   \n",
       "4      {'Collection Mode': {'endIndexInSegment': -1, ...   \n",
       "...                                                  ...   \n",
       "19715  {'Other Type': {'endIndexInSegment': 740, 'sta...   \n",
       "19716  {'Audience Type': {'endIndexInSegment': 740, '...   \n",
       "19717  {'Audience Type': {'endIndexInSegment': 740, '...   \n",
       "19718  {'Other Type': {'endIndexInSegment': 303, 'sta...   \n",
       "19719  {'Other Type': {'endIndexInSegment': 303, 'sta...   \n",
       "\n",
       "                                                 website  \\\n",
       "0      http://www.kraftrecipes.com/about/privacynotic...   \n",
       "1      http://www.kraftrecipes.com/about/privacynotic...   \n",
       "2      http://www.kraftrecipes.com/about/privacynotic...   \n",
       "3      http://www.kraftrecipes.com/about/privacynotic...   \n",
       "4      http://www.kraftrecipes.com/about/privacynotic...   \n",
       "...                                                  ...   \n",
       "19715      http://taylorswift.com/taylor-privacy-policy/   \n",
       "19716      http://taylorswift.com/taylor-privacy-policy/   \n",
       "19717      http://taylorswift.com/taylor-privacy-policy/   \n",
       "19718      http://taylorswift.com/taylor-privacy-policy/   \n",
       "19719      http://taylorswift.com/taylor-privacy-policy/   \n",
       "\n",
       "                                           selected_text  \n",
       "0      [Effective Date: May 7, 2015 Kraft Site Privac...  \n",
       "1                          [Effective Date: May 7, 2015]  \n",
       "2      [collec, register on our website or participat...  \n",
       "3      [collec, register on our website or participat...  \n",
       "4      [collec, register on our website or participat...  \n",
       "...                                                  ...  \n",
       "19715  [We comply with the United States privacy laws...  \n",
       "19716  [We comply with the United States privacy laws...  \n",
       "19717  [By using the Sites, visitors to the Sites fro...  \n",
       "19718  [If you have any questions about either this P...  \n",
       "19719  [Taylor Nation, LLC 718 Thompson Lane Suite 10...  \n",
       "\n",
       "[19720 rows x 4 columns]"
      ]
     },
     "execution_count": 60,
     "metadata": {},
     "output_type": "execute_result"
    }
   ],
   "source": [
    "all_data_filtered['selected_text'] = all_data_filtered.annotations.apply(extract_selected_text)\n",
    "all_data_filtered"
   ]
  },
  {
   "cell_type": "code",
   "execution_count": 61,
   "metadata": {},
   "outputs": [
    {
     "data": {
      "text/html": [
       "<div>\n",
       "<style scoped>\n",
       "    .dataframe tbody tr th:only-of-type {\n",
       "        vertical-align: middle;\n",
       "    }\n",
       "\n",
       "    .dataframe tbody tr th {\n",
       "        vertical-align: top;\n",
       "    }\n",
       "\n",
       "    .dataframe thead th {\n",
       "        text-align: right;\n",
       "    }\n",
       "</style>\n",
       "<table border=\"1\" class=\"dataframe\">\n",
       "  <thead>\n",
       "    <tr style=\"text-align: right;\">\n",
       "      <th></th>\n",
       "      <th>categories</th>\n",
       "      <th>selected_text</th>\n",
       "      <th>website</th>\n",
       "    </tr>\n",
       "  </thead>\n",
       "  <tbody>\n",
       "    <tr>\n",
       "      <th>0</th>\n",
       "      <td>Other</td>\n",
       "      <td>[Effective Date: May 7, 2015 Kraft Site Privac...</td>\n",
       "      <td>http://www.kraftrecipes.com/about/privacynotic...</td>\n",
       "    </tr>\n",
       "    <tr>\n",
       "      <th>1</th>\n",
       "      <td>Policy Change</td>\n",
       "      <td>[Effective Date: May 7, 2015]</td>\n",
       "      <td>http://www.kraftrecipes.com/about/privacynotic...</td>\n",
       "    </tr>\n",
       "    <tr>\n",
       "      <th>2</th>\n",
       "      <td>First Party Collection/Use</td>\n",
       "      <td>[collec, register on our website or participat...</td>\n",
       "      <td>http://www.kraftrecipes.com/about/privacynotic...</td>\n",
       "    </tr>\n",
       "    <tr>\n",
       "      <th>3</th>\n",
       "      <td>First Party Collection/Use</td>\n",
       "      <td>[collec, register on our website or participat...</td>\n",
       "      <td>http://www.kraftrecipes.com/about/privacynotic...</td>\n",
       "    </tr>\n",
       "    <tr>\n",
       "      <th>4</th>\n",
       "      <td>First Party Collection/Use</td>\n",
       "      <td>[collec, register on our website or participat...</td>\n",
       "      <td>http://www.kraftrecipes.com/about/privacynotic...</td>\n",
       "    </tr>\n",
       "    <tr>\n",
       "      <th>...</th>\n",
       "      <td>...</td>\n",
       "      <td>...</td>\n",
       "      <td>...</td>\n",
       "    </tr>\n",
       "    <tr>\n",
       "      <th>19715</th>\n",
       "      <td>Other</td>\n",
       "      <td>[We comply with the United States privacy laws...</td>\n",
       "      <td>http://taylorswift.com/taylor-privacy-policy/</td>\n",
       "    </tr>\n",
       "    <tr>\n",
       "      <th>19716</th>\n",
       "      <td>International and Specific Audiences</td>\n",
       "      <td>[We comply with the United States privacy laws...</td>\n",
       "      <td>http://taylorswift.com/taylor-privacy-policy/</td>\n",
       "    </tr>\n",
       "    <tr>\n",
       "      <th>19717</th>\n",
       "      <td>International and Specific Audiences</td>\n",
       "      <td>[By using the Sites, visitors to the Sites fro...</td>\n",
       "      <td>http://taylorswift.com/taylor-privacy-policy/</td>\n",
       "    </tr>\n",
       "    <tr>\n",
       "      <th>19718</th>\n",
       "      <td>Other</td>\n",
       "      <td>[If you have any questions about either this P...</td>\n",
       "      <td>http://taylorswift.com/taylor-privacy-policy/</td>\n",
       "    </tr>\n",
       "    <tr>\n",
       "      <th>19719</th>\n",
       "      <td>Other</td>\n",
       "      <td>[Taylor Nation, LLC 718 Thompson Lane Suite 10...</td>\n",
       "      <td>http://taylorswift.com/taylor-privacy-policy/</td>\n",
       "    </tr>\n",
       "  </tbody>\n",
       "</table>\n",
       "<p>19720 rows × 3 columns</p>\n",
       "</div>"
      ],
      "text/plain": [
       "                                 categories  \\\n",
       "0                                     Other   \n",
       "1                             Policy Change   \n",
       "2                First Party Collection/Use   \n",
       "3                First Party Collection/Use   \n",
       "4                First Party Collection/Use   \n",
       "...                                     ...   \n",
       "19715                                 Other   \n",
       "19716  International and Specific Audiences   \n",
       "19717  International and Specific Audiences   \n",
       "19718                                 Other   \n",
       "19719                                 Other   \n",
       "\n",
       "                                           selected_text  \\\n",
       "0      [Effective Date: May 7, 2015 Kraft Site Privac...   \n",
       "1                          [Effective Date: May 7, 2015]   \n",
       "2      [collec, register on our website or participat...   \n",
       "3      [collec, register on our website or participat...   \n",
       "4      [collec, register on our website or participat...   \n",
       "...                                                  ...   \n",
       "19715  [We comply with the United States privacy laws...   \n",
       "19716  [We comply with the United States privacy laws...   \n",
       "19717  [By using the Sites, visitors to the Sites fro...   \n",
       "19718  [If you have any questions about either this P...   \n",
       "19719  [Taylor Nation, LLC 718 Thompson Lane Suite 10...   \n",
       "\n",
       "                                                 website  \n",
       "0      http://www.kraftrecipes.com/about/privacynotic...  \n",
       "1      http://www.kraftrecipes.com/about/privacynotic...  \n",
       "2      http://www.kraftrecipes.com/about/privacynotic...  \n",
       "3      http://www.kraftrecipes.com/about/privacynotic...  \n",
       "4      http://www.kraftrecipes.com/about/privacynotic...  \n",
       "...                                                  ...  \n",
       "19715      http://taylorswift.com/taylor-privacy-policy/  \n",
       "19716      http://taylorswift.com/taylor-privacy-policy/  \n",
       "19717      http://taylorswift.com/taylor-privacy-policy/  \n",
       "19718      http://taylorswift.com/taylor-privacy-policy/  \n",
       "19719      http://taylorswift.com/taylor-privacy-policy/  \n",
       "\n",
       "[19720 rows x 3 columns]"
      ]
     },
     "execution_count": 61,
     "metadata": {},
     "output_type": "execute_result"
    }
   ],
   "source": [
    "all_data_filtered_model = all_data_filtered[['categories', 'selected_text', 'website']]\n",
    "all_data_filtered_model"
   ]
  },
  {
   "cell_type": "markdown",
   "metadata": {},
   "source": [
    "# Data Modeling"
   ]
  },
  {
   "cell_type": "markdown",
   "metadata": {},
   "source": [
    "## Train Test Split"
   ]
  },
  {
   "cell_type": "code",
   "execution_count": 62,
   "metadata": {},
   "outputs": [],
   "source": [
    "df = all_data_filtered_model.copy()\n",
    "unique_websites = df[\"website\"].unique()"
   ]
  },
  {
   "cell_type": "code",
   "execution_count": 63,
   "metadata": {},
   "outputs": [],
   "source": [
    "np.random.seed(42)\n",
    "np.random.shuffle(unique_websites)"
   ]
  },
  {
   "cell_type": "code",
   "execution_count": 64,
   "metadata": {},
   "outputs": [],
   "source": [
    "train_frac = 0.8\n",
    "val_frac = 0.1\n",
    "test_frac = 0.1 "
   ]
  },
  {
   "cell_type": "code",
   "execution_count": 65,
   "metadata": {},
   "outputs": [],
   "source": [
    "n_total = len(unique_websites)\n",
    "n_train = int(train_frac * n_total)\n",
    "n_val = int(val_frac * n_total)"
   ]
  },
  {
   "cell_type": "code",
   "execution_count": 66,
   "metadata": {},
   "outputs": [],
   "source": [
    "train_websites = unique_websites[:n_train]\n",
    "val_websites = unique_websites[n_train : n_train + n_val]\n",
    "test_websites = unique_websites[n_train + n_val :]"
   ]
  },
  {
   "cell_type": "code",
   "execution_count": 67,
   "metadata": {},
   "outputs": [],
   "source": [
    "train_df = df[df[\"website\"].isin(train_websites)].reset_index(drop=True)\n",
    "val_df = df[df[\"website\"].isin(val_websites)].reset_index(drop=True)\n",
    "test_df = df[df[\"website\"].isin(test_websites)].reset_index(drop=True)"
   ]
  },
  {
   "cell_type": "code",
   "execution_count": 68,
   "metadata": {},
   "outputs": [
    {
     "name": "stdout",
     "output_type": "stream",
     "text": [
      "Train websites: 92\n",
      "Val websites: 11\n",
      "Test websites: 12\n",
      "Train samples: 15757\n",
      "Val samples: 1968\n",
      "Test samples: 1995\n"
     ]
    }
   ],
   "source": [
    "print(\"Train websites:\", len(train_websites))\n",
    "print(\"Val websites:\", len(val_websites))\n",
    "print(\"Test websites:\", len(test_websites))\n",
    "\n",
    "print(\"Train samples:\", len(train_df))\n",
    "print(\"Val samples:\", len(val_df))\n",
    "print(\"Test samples:\", len(test_df))"
   ]
  },
  {
   "cell_type": "code",
   "execution_count": 69,
   "metadata": {},
   "outputs": [],
   "source": [
    "all_categories = df[\"categories\"].unique()\n",
    "label2id = {cat: i for i, cat in enumerate(all_categories)}\n",
    "id2label = {i: cat for cat, i in label2id.items()}"
   ]
  },
  {
   "cell_type": "code",
   "execution_count": 70,
   "metadata": {},
   "outputs": [
    {
     "data": {
      "text/plain": [
       "{'Other': 0,\n",
       " 'Policy Change': 1,\n",
       " 'First Party Collection/Use': 2,\n",
       " 'User Choice/Control': 3,\n",
       " 'Third Party Sharing/Collection': 4,\n",
       " 'Data Retention': 5,\n",
       " 'Do Not Track': 6,\n",
       " 'International and Specific Audiences': 7,\n",
       " 'Data Security': 8,\n",
       " 'User Access, Edit and Deletion': 9}"
      ]
     },
     "execution_count": 70,
     "metadata": {},
     "output_type": "execute_result"
    }
   ],
   "source": [
    "label2id"
   ]
  },
  {
   "cell_type": "code",
   "execution_count": 71,
   "metadata": {},
   "outputs": [],
   "source": [
    "# change categories to nums \n",
    "train_df[\"label\"] = train_df[\"categories\"].apply(lambda x: label2id[x])\n",
    "val_df[\"label\"] = val_df[\"categories\"].apply(lambda x: label2id[x])\n",
    "test_df[\"label\"] = test_df[\"categories\"].apply(lambda x: label2id[x])"
   ]
  },
  {
   "cell_type": "code",
   "execution_count": 72,
   "metadata": {},
   "outputs": [],
   "source": [
    "train_texts = train_df[\"selected_text\"].tolist()\n",
    "train_labels = train_df[\"label\"].tolist()\n",
    "\n",
    "val_texts = val_df[\"selected_text\"].tolist()\n",
    "val_labels = val_df[\"label\"].tolist()\n",
    "\n",
    "test_texts = test_df[\"selected_text\"].tolist()\n",
    "test_labels = test_df[\"label\"].tolist()"
   ]
  },
  {
   "cell_type": "markdown",
   "metadata": {},
   "source": [
    "## NLP Model "
   ]
  },
  {
   "cell_type": "markdown",
   "metadata": {},
   "source": [
    "## Switch to GPU"
   ]
  },
  {
   "cell_type": "code",
   "execution_count": 73,
   "metadata": {},
   "outputs": [
    {
     "name": "stdout",
     "output_type": "stream",
     "text": [
      "Using device: mps\n"
     ]
    }
   ],
   "source": [
    "device = torch.device(\"mps\" if torch.backends.mps.is_available() else \"cpu\")\n",
    "print(\"Using device:\", device)"
   ]
  },
  {
   "cell_type": "markdown",
   "metadata": {},
   "source": [
    "## Baseline Models"
   ]
  },
  {
   "cell_type": "code",
   "execution_count": 78,
   "metadata": {},
   "outputs": [],
   "source": [
    "num_labels = len(label2id)"
   ]
  },
  {
   "cell_type": "code",
   "execution_count": 82,
   "metadata": {},
   "outputs": [],
   "source": [
    "train_texts_str = [\" \".join(pieces) for pieces in train_texts]\n",
    "val_texts_str   = [\" \".join(pieces) for pieces in val_texts]\n",
    "test_texts_str  = [\" \".join(pieces) for pieces in test_texts]"
   ]
  },
  {
   "cell_type": "markdown",
   "metadata": {},
   "source": [
    "### Dummy Classifer"
   ]
  },
  {
   "cell_type": "code",
   "execution_count": null,
   "metadata": {},
   "outputs": [],
   "source": [
    "dummy_pipe = Pipeline([\n",
    "    (\"tfidf\", TfidfVectorizer()),  \n",
    "    (\"clf\",   DummyClassifier(strategy=\"most_frequent\"))\n",
    "])\n",
    "dummy_pipe.fit(train_texts_str, train_labels)\n",
    "y_dummy = dummy_pipe.predict(test_texts_str)"
   ]
  },
  {
   "cell_type": "code",
   "execution_count": 83,
   "metadata": {},
   "outputs": [
    {
     "name": "stdout",
     "output_type": "stream",
     "text": [
      "                                      precision    recall  f1-score   support\n",
      "\n",
      "                               Other       0.00      0.00      0.00       267\n",
      "                       Policy Change       0.00      0.00      0.00        50\n",
      "          First Party Collection/Use       0.42      1.00      0.59       831\n",
      "                 User Choice/Control       0.00      0.00      0.00       168\n",
      "      Third Party Sharing/Collection       0.00      0.00      0.00       448\n",
      "                      Data Retention       0.00      0.00      0.00        33\n",
      "                        Do Not Track       0.00      0.00      0.00         7\n",
      "International and Specific Audiences       0.00      0.00      0.00        47\n",
      "                       Data Security       0.00      0.00      0.00        61\n",
      "      User Access, Edit and Deletion       0.00      0.00      0.00        83\n",
      "\n",
      "                            accuracy                           0.42      1995\n",
      "                           macro avg       0.04      0.10      0.06      1995\n",
      "                        weighted avg       0.17      0.42      0.24      1995\n",
      "\n",
      "Dummy Macro F1: 0.05881104033970276\n"
     ]
    },
    {
     "name": "stderr",
     "output_type": "stream",
     "text": [
      "/opt/anaconda3/lib/python3.12/site-packages/sklearn/metrics/_classification.py:1509: UndefinedMetricWarning: Precision is ill-defined and being set to 0.0 in labels with no predicted samples. Use `zero_division` parameter to control this behavior.\n",
      "  _warn_prf(average, modifier, f\"{metric.capitalize()} is\", len(result))\n",
      "/opt/anaconda3/lib/python3.12/site-packages/sklearn/metrics/_classification.py:1509: UndefinedMetricWarning: Precision is ill-defined and being set to 0.0 in labels with no predicted samples. Use `zero_division` parameter to control this behavior.\n",
      "  _warn_prf(average, modifier, f\"{metric.capitalize()} is\", len(result))\n",
      "/opt/anaconda3/lib/python3.12/site-packages/sklearn/metrics/_classification.py:1509: UndefinedMetricWarning: Precision is ill-defined and being set to 0.0 in labels with no predicted samples. Use `zero_division` parameter to control this behavior.\n",
      "  _warn_prf(average, modifier, f\"{metric.capitalize()} is\", len(result))\n"
     ]
    }
   ],
   "source": [
    "print(classification_report(\n",
    "    test_labels,\n",
    "    y_dummy,\n",
    "    target_names=[id2label[i] for i in range(len(id2label))]\n",
    "))\n",
    "print(\"Dummy Macro F1:\", f1_score(test_labels, y_dummy, average=\"macro\"))\n"
   ]
  },
  {
   "cell_type": "markdown",
   "metadata": {},
   "source": [
    "### Log Reg Classifier"
   ]
  },
  {
   "cell_type": "code",
   "execution_count": null,
   "metadata": {},
   "outputs": [],
   "source": [
    "logreg_pipe = Pipeline([\n",
    "    (\"tfidf\", TfidfVectorizer(max_features=10_000, ngram_range=(1,2))),\n",
    "    (\"clf\",   LogisticRegression(\n",
    "                  max_iter=1000,\n",
    "                  class_weight=\"balanced\",\n",
    "                  n_jobs=-1\n",
    "              ))\n",
    "])\n",
    "logreg_pipe.fit(train_texts_str, train_labels)\n",
    "y_logreg = logreg_pipe.predict(test_texts_str)"
   ]
  },
  {
   "cell_type": "code",
   "execution_count": 84,
   "metadata": {},
   "outputs": [
    {
     "name": "stdout",
     "output_type": "stream",
     "text": [
      "                                      precision    recall  f1-score   support\n",
      "\n",
      "                               Other       0.79      0.54      0.64       267\n",
      "                       Policy Change       0.79      0.92      0.85        50\n",
      "          First Party Collection/Use       0.86      0.81      0.83       831\n",
      "                 User Choice/Control       0.60      0.79      0.68       168\n",
      "      Third Party Sharing/Collection       0.74      0.80      0.77       448\n",
      "                      Data Retention       0.53      0.64      0.58        33\n",
      "                        Do Not Track       1.00      1.00      1.00         7\n",
      "International and Specific Audiences       0.67      0.83      0.74        47\n",
      "                       Data Security       0.63      0.72      0.67        61\n",
      "      User Access, Edit and Deletion       0.66      0.72      0.69        83\n",
      "\n",
      "                            accuracy                           0.76      1995\n",
      "                           macro avg       0.73      0.78      0.75      1995\n",
      "                        weighted avg       0.77      0.76      0.76      1995\n",
      "\n",
      "LogReg Macro F1: 0.7455396815163982\n"
     ]
    }
   ],
   "source": [
    "print(classification_report(\n",
    "    test_labels,\n",
    "    y_logreg,\n",
    "    target_names=[id2label[i] for i in range(len(id2label))]\n",
    "))\n",
    "print(\"LogReg Macro F1:\", f1_score(test_labels, y_logreg, average=\"macro\"))"
   ]
  },
  {
   "cell_type": "markdown",
   "metadata": {},
   "source": [
    "## BERT Sequence Classification"
   ]
  },
  {
   "cell_type": "code",
   "execution_count": 76,
   "metadata": {},
   "outputs": [],
   "source": [
    "model_name = \"bert-base-uncased\"\n",
    "tokenizer = BertTokenizerFast.from_pretrained(model_name)"
   ]
  },
  {
   "cell_type": "code",
   "execution_count": 79,
   "metadata": {},
   "outputs": [
    {
     "name": "stderr",
     "output_type": "stream",
     "text": [
      "Some weights of BertForSequenceClassification were not initialized from the model checkpoint at bert-base-uncased and are newly initialized: ['classifier.bias', 'classifier.weight']\n",
      "You should probably TRAIN this model on a down-stream task to be able to use it for predictions and inference.\n"
     ]
    }
   ],
   "source": [
    "model = BertForSequenceClassification.from_pretrained(model_name, num_labels=num_labels).to(device)"
   ]
  },
  {
   "cell_type": "code",
   "execution_count": 41,
   "metadata": {},
   "outputs": [],
   "source": [
    "class PrivacyPolicyDataset(Dataset):\n",
    "    def __init__(self, texts, labels, tokenizer, max_len=128):\n",
    "        self.texts = texts\n",
    "        self.labels = labels\n",
    "        self.tokenizer = tokenizer\n",
    "        self.max_len = max_len\n",
    "\n",
    "    def __len__(self):\n",
    "        return len(self.texts)\n",
    "\n",
    "    def __getitem__(self, idx):\n",
    "        text = str(self.texts[idx])\n",
    "        label = self.labels[idx]\n",
    "        encoding = self.tokenizer(\n",
    "            text,\n",
    "            truncation=True,\n",
    "            padding=\"max_length\",\n",
    "            max_length=self.max_len,\n",
    "            return_tensors=\"pt\"\n",
    "        )\n",
    "        item = {key: val.squeeze() for key, val in encoding.items()}\n",
    "        item[\"labels\"] = torch.tensor(label, dtype=torch.long)\n",
    "        return item"
   ]
  },
  {
   "cell_type": "code",
   "execution_count": 42,
   "metadata": {},
   "outputs": [],
   "source": [
    "train_dataset = PrivacyPolicyDataset(train_texts, train_labels, tokenizer)\n",
    "val_dataset = PrivacyPolicyDataset(val_texts, val_labels, tokenizer)\n",
    "test_dataset = PrivacyPolicyDataset(test_texts, test_labels, tokenizer)"
   ]
  },
  {
   "cell_type": "code",
   "execution_count": 43,
   "metadata": {},
   "outputs": [],
   "source": [
    "def compute_metrics(eval_pred):\n",
    "    logits, labels = eval_pred\n",
    "    predictions = np.argmax(logits, axis=1)\n",
    "    f1 = f1_score(labels, predictions, average=\"macro\")\n",
    "    return {\"f1\": f1}"
   ]
  },
  {
   "cell_type": "code",
   "execution_count": 44,
   "metadata": {},
   "outputs": [],
   "source": [
    "training_args = TrainingArguments(\n",
    "    output_dir=\"./results\",\n",
    "    evaluation_strategy=\"steps\",      \n",
    "    eval_steps=100,                   \n",
    "    logging_strategy=\"steps\",\n",
    "    logging_steps=100,               \n",
    "    save_strategy=\"steps\",\n",
    "    save_steps=100,\n",
    "    num_train_epochs=1,             \n",
    "    per_device_train_batch_size=16,\n",
    "    per_device_eval_batch_size=16,\n",
    "    logging_dir=\"./logs\",\n",
    "    load_best_model_at_end=True,\n",
    ")"
   ]
  },
  {
   "cell_type": "code",
   "execution_count": 22,
   "metadata": {},
   "outputs": [
    {
     "name": "stderr",
     "output_type": "stream",
     "text": [
      "Some weights of BertForSequenceClassification were not initialized from the model checkpoint at bert-base-uncased and are newly initialized: ['classifier.bias', 'classifier.weight']\n",
      "You should probably TRAIN this model on a down-stream task to be able to use it for predictions and inference.\n"
     ]
    },
    {
     "data": {
      "text/html": [
       "\n",
       "    <div>\n",
       "      \n",
       "      <progress value='985' max='985' style='width:300px; height:20px; vertical-align: middle;'></progress>\n",
       "      [985/985 25:36, Epoch 1/1]\n",
       "    </div>\n",
       "    <table border=\"1\" class=\"dataframe\">\n",
       "  <thead>\n",
       " <tr style=\"text-align: left;\">\n",
       "      <th>Step</th>\n",
       "      <th>Training Loss</th>\n",
       "      <th>Validation Loss</th>\n",
       "      <th>F1</th>\n",
       "    </tr>\n",
       "  </thead>\n",
       "  <tbody>\n",
       "    <tr>\n",
       "      <td>100</td>\n",
       "      <td>1.258100</td>\n",
       "      <td>0.789958</td>\n",
       "      <td>0.352197</td>\n",
       "    </tr>\n",
       "    <tr>\n",
       "      <td>200</td>\n",
       "      <td>0.692900</td>\n",
       "      <td>0.520492</td>\n",
       "      <td>0.519631</td>\n",
       "    </tr>\n",
       "    <tr>\n",
       "      <td>300</td>\n",
       "      <td>0.504800</td>\n",
       "      <td>0.451815</td>\n",
       "      <td>0.688804</td>\n",
       "    </tr>\n",
       "    <tr>\n",
       "      <td>400</td>\n",
       "      <td>0.462700</td>\n",
       "      <td>0.398012</td>\n",
       "      <td>0.719946</td>\n",
       "    </tr>\n",
       "    <tr>\n",
       "      <td>500</td>\n",
       "      <td>0.384300</td>\n",
       "      <td>0.340912</td>\n",
       "      <td>0.762448</td>\n",
       "    </tr>\n",
       "    <tr>\n",
       "      <td>600</td>\n",
       "      <td>0.326700</td>\n",
       "      <td>0.335576</td>\n",
       "      <td>0.761050</td>\n",
       "    </tr>\n",
       "    <tr>\n",
       "      <td>700</td>\n",
       "      <td>0.344100</td>\n",
       "      <td>0.311741</td>\n",
       "      <td>0.819969</td>\n",
       "    </tr>\n",
       "    <tr>\n",
       "      <td>800</td>\n",
       "      <td>0.292600</td>\n",
       "      <td>0.301343</td>\n",
       "      <td>0.840934</td>\n",
       "    </tr>\n",
       "    <tr>\n",
       "      <td>900</td>\n",
       "      <td>0.249200</td>\n",
       "      <td>0.287702</td>\n",
       "      <td>0.850673</td>\n",
       "    </tr>\n",
       "  </tbody>\n",
       "</table><p>"
      ],
      "text/plain": [
       "<IPython.core.display.HTML object>"
      ]
     },
     "metadata": {},
     "output_type": "display_data"
    },
    {
     "data": {
      "text/plain": [
       "TrainOutput(global_step=985, training_loss=0.4832946854799532, metrics={'train_runtime': 1537.9622, 'train_samples_per_second': 10.245, 'train_steps_per_second': 0.64, 'total_flos': 1036534672492032.0, 'train_loss': 0.4832946854799532, 'epoch': 1.0})"
      ]
     },
     "execution_count": 22,
     "metadata": {},
     "output_type": "execute_result"
    }
   ],
   "source": [
    "trainer = Trainer(\n",
    "    model=model,\n",
    "    args=training_args,\n",
    "    train_dataset=train_dataset,\n",
    "    eval_dataset=val_dataset,\n",
    "    compute_metrics=compute_metrics\n",
    ")\n",
    "\n",
    "trainer.train()"
   ]
  },
  {
   "cell_type": "markdown",
   "metadata": {},
   "source": [
    "## Test Set Eval"
   ]
  },
  {
   "cell_type": "code",
   "execution_count": 45,
   "metadata": {},
   "outputs": [],
   "source": [
    "test_results = trainer.evaluate(eval_dataset=test_dataset)\n",
    "print(\"Test results:\", test_results)"
   ]
  },
  {
   "cell_type": "code",
   "execution_count": 46,
   "metadata": {},
   "outputs": [],
   "source": [
    "pred_output = trainer.predict(test_dataset)\n",
    "preds = np.argmax(pred_output.predictions, axis=1)\n",
    "true_labels = pred_output.label_ids"
   ]
  },
  {
   "cell_type": "code",
   "execution_count": 25,
   "metadata": {},
   "outputs": [
    {
     "name": "stdout",
     "output_type": "stream",
     "text": [
      "Confusion Matrix:\n",
      "[[243   1   3   0   1   0   0   8   9   2]\n",
      " [  7  37   0   1   4   0   0   0   0   1]\n",
      " [  4   0 794   6  20   5   0   0   0   2]\n",
      " [  4   1   5 153   1   0   0   0   0   4]\n",
      " [  2   0  22   1 421   0   0   0   1   1]\n",
      " [  0   0   3   0   0  28   0   0   1   1]\n",
      " [  2   0   0   0   0   0   4   0   1   0]\n",
      " [  4   0   0   0   1   0   0  41   0   1]\n",
      " [ 16   0   2   0   0   0   0   0  43   0]\n",
      " [  3   0   3   5   2   0   0   1   0  69]]\n",
      "\n",
      "Classification Report:\n",
      "                                      precision    recall  f1-score   support\n",
      "\n",
      "                               Other       0.85      0.91      0.88       267\n",
      "                       Policy Change       0.95      0.74      0.83        50\n",
      "          First Party Collection/Use       0.95      0.96      0.95       831\n",
      "                 User Choice/Control       0.92      0.91      0.92       168\n",
      "      Third Party Sharing/Collection       0.94      0.94      0.94       448\n",
      "                      Data Retention       0.85      0.85      0.85        33\n",
      "                        Do Not Track       1.00      0.57      0.73         7\n",
      "International and Specific Audiences       0.82      0.87      0.85        47\n",
      "                       Data Security       0.78      0.70      0.74        61\n",
      "      User Access, Edit and Deletion       0.85      0.83      0.84        83\n",
      "\n",
      "                            accuracy                           0.92      1995\n",
      "                           macro avg       0.89      0.83      0.85      1995\n",
      "                        weighted avg       0.92      0.92      0.92      1995\n",
      "\n"
     ]
    },
    {
     "data": {
      "image/png": "[encoded data removed]",
      "text/plain": [
       "<Figure size 1000x800 with 2 Axes>"
      ]
     },
     "metadata": {},
     "output_type": "display_data"
    }
   ],
   "source": [
    "cm = confusion_matrix(true_labels, preds)\n",
    "print(\"Confusion Matrix:\")\n",
    "print(cm)\n",
    "\n",
    "print(\"\\nClassification Report:\")\n",
    "print(classification_report(true_labels, preds, target_names=[id2label[i] for i in range(num_labels)]))\n",
    "\n",
    "plt.figure(figsize=(10, 8))\n",
    "sns.heatmap(cm, annot=True, fmt=\"d\", cmap=\"Blues\",\n",
    "            xticklabels=[id2label[i] for i in range(num_labels)],\n",
    "            yticklabels=[id2label[i] for i in range(num_labels)])\n",
    "plt.xlabel(\"Predicted\")\n",
    "plt.ylabel(\"True\")\n",
    "plt.title(\"Confusion Matrix\")\n",
    "plt.show()\n"
   ]
  },
  {
   "cell_type": "code",
   "execution_count": null,
   "metadata": {},
   "outputs": [],
   "source": []
  }
 ],
 "metadata": {
  "kernelspec": {
   "display_name": "base",
   "language": "python",
   "name": "python3"
  },
  "language_info": {
   "codemirror_mode": {
    "name": "ipython",
    "version": 3
   },
   "file_extension": ".py",
   "mimetype": "text/x-python",
   "name": "python",
   "nbconvert_exporter": "python",
   "pygments_lexer": "ipython3",
   "version": "3.12.4"
  }
 },
 "nbformat": 4,
 "nbformat_minor": 2
}
